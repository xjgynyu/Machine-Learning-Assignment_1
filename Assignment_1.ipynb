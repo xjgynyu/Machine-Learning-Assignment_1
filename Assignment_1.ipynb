{
 "cells": [
  {
   "cell_type": "markdown",
   "metadata": {},
   "source": [
    "# Assignment 1\n",
    "\n",
    "The purpose of this assignment is to serve as a \"check-point\" on your knowledge of\n",
    "- Jupyter\n",
    "- NumPy, Pandas\n",
    "- The very basic elements of sklearn\n",
    "- Notebook style\n",
    "\n",
    "You will construct a linear regression model to predict the return of a ticker, given the returns of an index (SPY).  You will source the data, assemble it into a useful form, and transform it as needed.  Finally, you will use sklearn to build the model and evaluate it using the RMSE Performance metric."
   ]
  },
  {
   "cell_type": "markdown",
   "metadata": {},
   "source": [
    "# Instructions\n",
    "You will need to complete this notebook.  The final result should follow the style of our Recipe for ML (see Geron, Appendix B) as appropriate\n",
    "\n",
    "Your task is to complete the coding sections, and to add sections that discus the problem, the data, and your exploration process.  We have only supplied the required coding sections.  The rest is up to you.\n",
    "\n",
    "1. Code sections\n",
    "    - We have given you an outline of the code, with missing elements\n",
    "    - The <span style=\"color:red\">Red Section Headers</span> contain code templates that you need to complete\n",
    "        - We have supplied the signature for the functions, and a specification\n",
    "        - Your job is to implement the function so as to satisfy the specification\n",
    "        - Please **DO NOT** change function signatures in the templates, or variable names on the left hand side of existing code without approval from the instructor or GA\n",
    "        - We will test your code for correctness by calling the functions in the template, and evaluating certain variables (whose values you will compute).  If you change these, it will make evaluation more difficult.\n",
    "        \n",
    "1. Other sections\n",
    "    - Add all the sections in our \"reciple for ML\" (e.g. see Geron Appendix B) as appropriate\n",
    "    - Consider this an example of what you would submit as part of a take-home job interview\n",
    "    - We want to see *how* you approached the problem, not just the solution\n",
    "\n",
    "     \n",
    "**REMEMBER** Working code and correct answers give partial credit.  To get full credit, your notebook should reflect your process of thinking and exploration (i.e., lots of markdown, graphs where appropriate, etc.)"
   ]
  },
  {
   "cell_type": "markdown",
   "metadata": {},
   "source": [
    "# A. Importing the modules\n",
    "\n",
    "In this project, the goal is tring to explore the relationship between stocks and stocks index, using linear regression method"
   ]
  },
  {
   "cell_type": "markdown",
   "metadata": {},
   "source": [
    "The first part will be imporing the modules needed, which includes `Numpy`, `Panda`, `Matplotlib` and `Sklearn`"
   ]
  },
  {
   "cell_type": "code",
   "execution_count": 1,
   "metadata": {},
   "outputs": [],
   "source": [
    "import numpy as np\n",
    "import pandas as pd\n",
    "import matplotlib.pyplot as plt"
   ]
  },
  {
   "cell_type": "code",
   "execution_count": 2,
   "metadata": {},
   "outputs": [],
   "source": [
    "# %load \"./assignment_1_answers.py\""
   ]
  },
  {
   "cell_type": "markdown",
   "metadata": {},
   "source": [
    "# <span style=\"color:red\">Import any other modules you need</span>"
   ]
  },
  {
   "cell_type": "code",
   "execution_count": 3,
   "metadata": {},
   "outputs": [],
   "source": [
    "# Your imports\n",
    "from sklearn import linear_model                            # to do the regression\n",
    "from sklearn.metrics import mean_squared_error, r2_score   #to calculate the  `RMSE`, `R^2`\n"
   ]
  },
  {
   "cell_type": "markdown",
   "metadata": {},
   "source": [
    "# B. Obtaining and plotting data "
   ]
  },
  {
   "cell_type": "markdown",
   "metadata": {},
   "source": [
    "# <span style=\"color:red\">Create function to obtain the train and test data</span>"
   ]
  },
  {
   "cell_type": "markdown",
   "metadata": {},
   "source": [
    "## Obtaining data\n",
    "\n",
    "This function returns to a DataFrame with `Dependent` and `Independent` as the names of the columns and with Date as the index.\n",
    "\n",
    "Date will be in the form of `2018-01-01`"
   ]
  },
  {
   "cell_type": "code",
   "execution_count": 4,
   "metadata": {},
   "outputs": [],
   "source": [
    "def getData(ticker, indx):\n",
    "    \"\"\"\n",
    "    Retrieve two timeseries: one for a ticker and one for an index.\n",
    "    Return a DataFrame containing the two timeseries.\n",
    "   \n",
    "    Parameters\n",
    "    ----------\n",
    "    ticker, indx: Strings representing the stock symbol for \"ticker\" and the \"index\"\n",
    "    \n",
    "    The two timeseries are in separate CSV files.  The code below will construct the names of the files from\n",
    "    the stock symbol strings.\n",
    "    \n",
    "    The files contain multiple features. The feature of interest to us is \"Close\", which is the closing price.\n",
    "        \n",
    "    \n",
    "    Returns\n",
    "    --------\n",
    "    df: a DataFrame with the following properties\n",
    "    \n",
    "    df.index should be the dates in the timeseries\n",
    "    df should have (at least) 2 columns, with names:\n",
    "    \"Dependent\"\n",
    "    \"Independent\"\n",
    "    \n",
    "    df.loc[:, \"Dependent\"] should be the timeseries of the \"Close\" attribute for the ticker\n",
    "    df.loc[:, \"Independent\"] should be the timeseries for the \"Close\" attribute of the index against which we are computing beta.\n",
    "    \"\"\"\n",
    "    \n",
    "    # Construct the name of the files containing the ticker and the \"index\"\n",
    "    ticker_file = \"./data/assignment_1/{t}.csv\".format(t=ticker)\n",
    "    indx_file   = \"./data/assignment_1/{t}.csv\".format(t=indx)\n",
    "    \n",
    "    # Create the function body according to the spec\n",
    "    data1 = pd.read_csv(ticker_file)\n",
    "    data2 = pd.read_csv(indx_file)\n",
    "    df = pd.DataFrame([list(data1.Close),list(data2.Close)])\n",
    "\n",
    "    # Change the return statement as appropriate\\\n",
    "    df = df.T\n",
    "    df.index = data1.Date.tolist()\n",
    "    df.columns = ['Dependent', 'Independent']\n",
    "    return df"
   ]
  },
  {
   "cell_type": "code",
   "execution_count": 5,
   "metadata": {},
   "outputs": [
    {
     "data": {
      "text/html": [
       "<div>\n",
       "<style scoped>\n",
       "    .dataframe tbody tr th:only-of-type {\n",
       "        vertical-align: middle;\n",
       "    }\n",
       "\n",
       "    .dataframe tbody tr th {\n",
       "        vertical-align: top;\n",
       "    }\n",
       "\n",
       "    .dataframe thead th {\n",
       "        text-align: right;\n",
       "    }\n",
       "</style>\n",
       "<table border=\"1\" class=\"dataframe\">\n",
       "  <thead>\n",
       "    <tr style=\"text-align: right;\">\n",
       "      <th></th>\n",
       "      <th>Independent</th>\n",
       "    </tr>\n",
       "  </thead>\n",
       "  <tbody>\n",
       "    <tr>\n",
       "      <th>count</th>\n",
       "      <td>251.000000</td>\n",
       "    </tr>\n",
       "    <tr>\n",
       "      <th>mean</th>\n",
       "      <td>274.339641</td>\n",
       "    </tr>\n",
       "    <tr>\n",
       "      <th>std</th>\n",
       "      <td>10.079264</td>\n",
       "    </tr>\n",
       "    <tr>\n",
       "      <th>min</th>\n",
       "      <td>234.339996</td>\n",
       "    </tr>\n",
       "    <tr>\n",
       "      <th>25%</th>\n",
       "      <td>268.830002</td>\n",
       "    </tr>\n",
       "    <tr>\n",
       "      <th>50%</th>\n",
       "      <td>273.980011</td>\n",
       "    </tr>\n",
       "    <tr>\n",
       "      <th>75%</th>\n",
       "      <td>281.035004</td>\n",
       "    </tr>\n",
       "    <tr>\n",
       "      <th>max</th>\n",
       "      <td>293.579987</td>\n",
       "    </tr>\n",
       "  </tbody>\n",
       "</table>\n",
       "</div>"
      ],
      "text/plain": [
       "       Independent\n",
       "count   251.000000\n",
       "mean    274.339641\n",
       "std      10.079264\n",
       "min     234.339996\n",
       "25%     268.830002\n",
       "50%     273.980011\n",
       "75%     281.035004\n",
       "max     293.579987"
      ]
     },
     "execution_count": 5,
     "metadata": {},
     "output_type": "execute_result"
    }
   ],
   "source": [
    "# Ticker: BA (Boeing), Index: SPY (the ETF for the S&P 500)\n",
    "Ticker = \"FB\"\n",
    "Index = \"SPY\"\n",
    "df = getData(Ticker, Index)\n",
    "\n",
    "X = df.loc[:, [\"Independent\"] ]\n",
    "y = df.loc[:, [\"Dependent\"] ]\n",
    "\n",
    "\n",
    "X.describe()\n"
   ]
  },
  {
   "cell_type": "code",
   "execution_count": 6,
   "metadata": {},
   "outputs": [
    {
     "data": {
      "text/html": [
       "<div>\n",
       "<style scoped>\n",
       "    .dataframe tbody tr th:only-of-type {\n",
       "        vertical-align: middle;\n",
       "    }\n",
       "\n",
       "    .dataframe tbody tr th {\n",
       "        vertical-align: top;\n",
       "    }\n",
       "\n",
       "    .dataframe thead th {\n",
       "        text-align: right;\n",
       "    }\n",
       "</style>\n",
       "<table border=\"1\" class=\"dataframe\">\n",
       "  <thead>\n",
       "    <tr style=\"text-align: right;\">\n",
       "      <th></th>\n",
       "      <th>Dependent</th>\n",
       "    </tr>\n",
       "  </thead>\n",
       "  <tbody>\n",
       "    <tr>\n",
       "      <th>count</th>\n",
       "      <td>251.000000</td>\n",
       "    </tr>\n",
       "    <tr>\n",
       "      <th>mean</th>\n",
       "      <td>171.510956</td>\n",
       "    </tr>\n",
       "    <tr>\n",
       "      <th>std</th>\n",
       "      <td>19.977452</td>\n",
       "    </tr>\n",
       "    <tr>\n",
       "      <th>min</th>\n",
       "      <td>124.059998</td>\n",
       "    </tr>\n",
       "    <tr>\n",
       "      <th>25%</th>\n",
       "      <td>157.914993</td>\n",
       "    </tr>\n",
       "    <tr>\n",
       "      <th>50%</th>\n",
       "      <td>174.699997</td>\n",
       "    </tr>\n",
       "    <tr>\n",
       "      <th>75%</th>\n",
       "      <td>185.269997</td>\n",
       "    </tr>\n",
       "    <tr>\n",
       "      <th>max</th>\n",
       "      <td>217.500000</td>\n",
       "    </tr>\n",
       "  </tbody>\n",
       "</table>\n",
       "</div>"
      ],
      "text/plain": [
       "        Dependent\n",
       "count  251.000000\n",
       "mean   171.510956\n",
       "std     19.977452\n",
       "min    124.059998\n",
       "25%    157.914993\n",
       "50%    174.699997\n",
       "75%    185.269997\n",
       "max    217.500000"
      ]
     },
     "execution_count": 6,
     "metadata": {},
     "output_type": "execute_result"
    }
   ],
   "source": [
    "y.describe()"
   ]
  },
  {
   "cell_type": "markdown",
   "metadata": {},
   "source": [
    "## C. Plotting raw data\n",
    "\n",
    "Plotting the data is a pretty straightforward way for us to know the distribution of the data"
   ]
  },
  {
   "cell_type": "code",
   "execution_count": 7,
   "metadata": {},
   "outputs": [
    {
     "data": {
      "text/plain": [
       "<Figure size 432x288 with 0 Axes>"
      ]
     },
     "metadata": {},
     "output_type": "display_data"
    },
    {
     "data": {
      "image/png": "[encoded data removed]",
      "text/plain": [
       "<Figure size 432x288 with 1 Axes>"
      ]
     },
     "metadata": {},
     "output_type": "display_data"
    },
    {
     "data": {
      "image/png": "[encoded data removed]",
      "text/plain": [
       "<Figure size 432x288 with 2 Axes>"
      ]
     },
     "metadata": {},
     "output_type": "display_data"
    }
   ],
   "source": [
    "plt.figure()\n",
    "_ = df.plot()\n",
    "_.grid()\n",
    "\n",
    "fig = plt.figure()\n",
    "ax = fig.add_subplot(121)\n",
    "_ =ax.hist(X.values,bins = 10)\n",
    "ax.grid()\n",
    "\n",
    "ax = fig.add_subplot(122) \n",
    "_ =ax.hist(y.values,bins = 10)\n",
    "ax.grid()\n",
    "\n",
    "\n"
   ]
  },
  {
   "cell_type": "markdown",
   "metadata": {},
   "source": [
    "# D. Spliting data \n",
    "\n",
    "Split the data into training set and testing set"
   ]
  },
  {
   "cell_type": "markdown",
   "metadata": {},
   "source": [
    "# <span style=\"color:red\">Create function to split the full data into train and test data</span>"
   ]
  },
  {
   "cell_type": "markdown",
   "metadata": {},
   "source": [
    "This `split` function is to split the labels set and features set, respectively, into two sets according to date. Random seed is not used in this function because we split them according to given date not randomly"
   ]
  },
  {
   "cell_type": "code",
   "execution_count": 8,
   "metadata": {},
   "outputs": [],
   "source": [
    "def split(X, y, seed=42):\n",
    "    \"\"\"\n",
    "    Split the data into a training and test set\n",
    "    \n",
    "    The training data should span the date range from 1/1/2018 to 6/30/2018\n",
    "    The test data should span the date range from 7/1/2018 to 7/31/2018\n",
    "    \n",
    "    Parameters\n",
    "    ----------\n",
    "    X: DataFrame containing the independent variable(s) (i.e, features, predictors)\n",
    "    y: DataFrame containing the dependent variable (i.e., the target)\n",
    "    \n",
    "    Optional\n",
    "    --------\n",
    "    seed: Integer used as the seed for a random number generator\n",
    "      You don't necessarily NEED to use a random number generator but, if you do, please use the default value for seed\n",
    "    \n",
    "    Returns\n",
    "    -------\n",
    "    X_train: DataFrame containing training data for independent variable(s)\n",
    "    X_test:  DataFrame containing test data for independent variable(s)\n",
    "    y_train: DataFrame containing training data for dependent variable\n",
    "    y_test:  DateFrame containing test data for dependent variable\n",
    "    \"\"\"\n",
    "    # IF  you need to use a random number generator, use rng.\n",
    "    rng = np.random.RandomState(seed)\n",
    "    \n",
    "    # Create the function body according to the spec\n",
    "    result = []\n",
    "    result.append(X.loc['2018-01-01':'2018-06-30',:])\n",
    "    result.append(X.loc['2018-07-01':'2018-07-31',])\n",
    "    result.append(y.loc['2018-01-01':'2018-06-30',:])\n",
    "    result.append(y.loc['2018-07-01':'2018-07-31',])\n",
    "\n",
    "    # Change the return statement as appropriate\n",
    "    return result\n",
    "   "
   ]
  },
  {
   "cell_type": "code",
   "execution_count": 9,
   "metadata": {},
   "outputs": [
    {
     "data": {
      "text/html": [
       "<div>\n",
       "<style scoped>\n",
       "    .dataframe tbody tr th:only-of-type {\n",
       "        vertical-align: middle;\n",
       "    }\n",
       "\n",
       "    .dataframe tbody tr th {\n",
       "        vertical-align: top;\n",
       "    }\n",
       "\n",
       "    .dataframe thead th {\n",
       "        text-align: right;\n",
       "    }\n",
       "</style>\n",
       "<table border=\"1\" class=\"dataframe\">\n",
       "  <thead>\n",
       "    <tr style=\"text-align: right;\">\n",
       "      <th></th>\n",
       "      <th>Independent</th>\n",
       "    </tr>\n",
       "  </thead>\n",
       "  <tbody>\n",
       "    <tr>\n",
       "      <th>2018-01-02</th>\n",
       "      <td>268.769989</td>\n",
       "    </tr>\n",
       "    <tr>\n",
       "      <th>2018-01-03</th>\n",
       "      <td>270.470001</td>\n",
       "    </tr>\n",
       "    <tr>\n",
       "      <th>2018-01-04</th>\n",
       "      <td>271.609985</td>\n",
       "    </tr>\n",
       "    <tr>\n",
       "      <th>2018-01-05</th>\n",
       "      <td>273.420013</td>\n",
       "    </tr>\n",
       "    <tr>\n",
       "      <th>2018-01-08</th>\n",
       "      <td>273.920013</td>\n",
       "    </tr>\n",
       "  </tbody>\n",
       "</table>\n",
       "</div>"
      ],
      "text/plain": [
       "            Independent\n",
       "2018-01-02   268.769989\n",
       "2018-01-03   270.470001\n",
       "2018-01-04   271.609985\n",
       "2018-01-05   273.420013\n",
       "2018-01-08   273.920013"
      ]
     },
     "execution_count": 9,
     "metadata": {},
     "output_type": "execute_result"
    }
   ],
   "source": [
    "# Split the data into a training and a test set\n",
    "X_train, X_test, y_train, y_test = split(X, y)\n",
    "X_train.head()"
   ]
  },
  {
   "cell_type": "code",
   "execution_count": 10,
   "metadata": {},
   "outputs": [
    {
     "data": {
      "text/html": [
       "<div>\n",
       "<style scoped>\n",
       "    .dataframe tbody tr th:only-of-type {\n",
       "        vertical-align: middle;\n",
       "    }\n",
       "\n",
       "    .dataframe tbody tr th {\n",
       "        vertical-align: top;\n",
       "    }\n",
       "\n",
       "    .dataframe thead th {\n",
       "        text-align: right;\n",
       "    }\n",
       "</style>\n",
       "<table border=\"1\" class=\"dataframe\">\n",
       "  <thead>\n",
       "    <tr style=\"text-align: right;\">\n",
       "      <th></th>\n",
       "      <th>Independent</th>\n",
       "    </tr>\n",
       "  </thead>\n",
       "  <tbody>\n",
       "    <tr>\n",
       "      <th>2018-07-02</th>\n",
       "      <td>271.859985</td>\n",
       "    </tr>\n",
       "    <tr>\n",
       "      <th>2018-07-03</th>\n",
       "      <td>270.899994</td>\n",
       "    </tr>\n",
       "    <tr>\n",
       "      <th>2018-07-05</th>\n",
       "      <td>273.109985</td>\n",
       "    </tr>\n",
       "    <tr>\n",
       "      <th>2018-07-06</th>\n",
       "      <td>275.420013</td>\n",
       "    </tr>\n",
       "    <tr>\n",
       "      <th>2018-07-09</th>\n",
       "      <td>277.899994</td>\n",
       "    </tr>\n",
       "  </tbody>\n",
       "</table>\n",
       "</div>"
      ],
      "text/plain": [
       "            Independent\n",
       "2018-07-02   271.859985\n",
       "2018-07-03   270.899994\n",
       "2018-07-05   273.109985\n",
       "2018-07-06   275.420013\n",
       "2018-07-09   277.899994"
      ]
     },
     "execution_count": 10,
     "metadata": {},
     "output_type": "execute_result"
    }
   ],
   "source": [
    "X_test.head()"
   ]
  },
  {
   "cell_type": "code",
   "execution_count": 11,
   "metadata": {},
   "outputs": [
    {
     "data": {
      "text/html": [
       "<div>\n",
       "<style scoped>\n",
       "    .dataframe tbody tr th:only-of-type {\n",
       "        vertical-align: middle;\n",
       "    }\n",
       "\n",
       "    .dataframe tbody tr th {\n",
       "        vertical-align: top;\n",
       "    }\n",
       "\n",
       "    .dataframe thead th {\n",
       "        text-align: right;\n",
       "    }\n",
       "</style>\n",
       "<table border=\"1\" class=\"dataframe\">\n",
       "  <thead>\n",
       "    <tr style=\"text-align: right;\">\n",
       "      <th></th>\n",
       "      <th>Dependent</th>\n",
       "    </tr>\n",
       "  </thead>\n",
       "  <tbody>\n",
       "    <tr>\n",
       "      <th>2018-01-02</th>\n",
       "      <td>181.419998</td>\n",
       "    </tr>\n",
       "    <tr>\n",
       "      <th>2018-01-03</th>\n",
       "      <td>184.669998</td>\n",
       "    </tr>\n",
       "    <tr>\n",
       "      <th>2018-01-04</th>\n",
       "      <td>184.330002</td>\n",
       "    </tr>\n",
       "    <tr>\n",
       "      <th>2018-01-05</th>\n",
       "      <td>186.850006</td>\n",
       "    </tr>\n",
       "    <tr>\n",
       "      <th>2018-01-08</th>\n",
       "      <td>188.279999</td>\n",
       "    </tr>\n",
       "  </tbody>\n",
       "</table>\n",
       "</div>"
      ],
      "text/plain": [
       "             Dependent\n",
       "2018-01-02  181.419998\n",
       "2018-01-03  184.669998\n",
       "2018-01-04  184.330002\n",
       "2018-01-05  186.850006\n",
       "2018-01-08  188.279999"
      ]
     },
     "execution_count": 11,
     "metadata": {},
     "output_type": "execute_result"
    }
   ],
   "source": [
    "y_train.head()"
   ]
  },
  {
   "cell_type": "code",
   "execution_count": 12,
   "metadata": {},
   "outputs": [
    {
     "data": {
      "text/html": [
       "<div>\n",
       "<style scoped>\n",
       "    .dataframe tbody tr th:only-of-type {\n",
       "        vertical-align: middle;\n",
       "    }\n",
       "\n",
       "    .dataframe tbody tr th {\n",
       "        vertical-align: top;\n",
       "    }\n",
       "\n",
       "    .dataframe thead th {\n",
       "        text-align: right;\n",
       "    }\n",
       "</style>\n",
       "<table border=\"1\" class=\"dataframe\">\n",
       "  <thead>\n",
       "    <tr style=\"text-align: right;\">\n",
       "      <th></th>\n",
       "      <th>Dependent</th>\n",
       "    </tr>\n",
       "  </thead>\n",
       "  <tbody>\n",
       "    <tr>\n",
       "      <th>2018-07-02</th>\n",
       "      <td>197.360001</td>\n",
       "    </tr>\n",
       "    <tr>\n",
       "      <th>2018-07-03</th>\n",
       "      <td>192.729996</td>\n",
       "    </tr>\n",
       "    <tr>\n",
       "      <th>2018-07-05</th>\n",
       "      <td>198.449997</td>\n",
       "    </tr>\n",
       "    <tr>\n",
       "      <th>2018-07-06</th>\n",
       "      <td>203.229996</td>\n",
       "    </tr>\n",
       "    <tr>\n",
       "      <th>2018-07-09</th>\n",
       "      <td>204.740005</td>\n",
       "    </tr>\n",
       "  </tbody>\n",
       "</table>\n",
       "</div>"
      ],
      "text/plain": [
       "             Dependent\n",
       "2018-07-02  197.360001\n",
       "2018-07-03  192.729996\n",
       "2018-07-05  198.449997\n",
       "2018-07-06  203.229996\n",
       "2018-07-09  204.740005"
      ]
     },
     "execution_count": 12,
     "metadata": {},
     "output_type": "execute_result"
    }
   ],
   "source": [
    "y_test.head()"
   ]
  },
  {
   "cell_type": "markdown",
   "metadata": {},
   "source": [
    "# E. Preparation of data\n",
    "\n",
    "In this part, prices of tickers and index are transfermed into returns of tickers and index.\n",
    "\n",
    "Also, if we try to make real prediction, using data of historical to predict future data, we need to using return of X from yesterday to predict return of y of today. one to one correspondence of yestaday's index return and today's stock return can be established if we add codes below\n",
    "\n",
    "`\n",
    "    '''\n",
    "    result = []\n",
    "    _ = temp[0].drop(temp[0].index[-1]) \n",
    "    result.append(_)\n",
    "    _ = temp[1].drop(temp[1].index[-1])\n",
    "    result.append(_)\n",
    "    _ = temp[2].drop(temp[2].index[0])\n",
    "    result.append(_)\n",
    "    _ = temp[3].drop(temp[3].index[0]) \n",
    "    result.append(_)\n",
    "    '''\n",
    "`"
   ]
  },
  {
   "cell_type": "markdown",
   "metadata": {},
   "source": [
    "# <span style=\"color:red\">Create a function to perform any other preparation of the data needed</span>\n",
    "   "
   ]
  },
  {
   "cell_type": "code",
   "execution_count": 13,
   "metadata": {},
   "outputs": [],
   "source": [
    "def prepareData( dfList ):\n",
    "    \"\"\"\n",
    "    Prepare each DataFrame df in the list of DataFrames for use by the model\n",
    "    \n",
    "    This is the time to convert each of your datasets into the form consumed by your model.  For example:\n",
    "    - do any columns of df needed to be converted into another form ?\n",
    "    \n",
    "    \n",
    "    Parameters\n",
    "    ----------\n",
    "    dfList:  A list of DataFrames\n",
    "    \n",
    "    Returns\n",
    "    -------\n",
    "    finalList: A list of DataFrames.  There is a one to one correspondence between items in\n",
    "      dfList and finalList, so\n",
    "        \n",
    "      len(finalList) == len(dfList)\n",
    "    \n",
    "    Consider the DataFrame at position i of dfList (i.e, dfList[i]).\n",
    "    The corresponding element of finalList (i.e, finalList[i]) will have changed dfList[i] into the DataFrame\n",
    "    that will be used as input by the sklearn model.\n",
    "\n",
    "    \"\"\"\n",
    "    \n",
    "    # Create the function body according to the spec\n",
    "    temp = []\n",
    "    for i,data1 in enumerate(dfList):\n",
    "        temp.append(pd.DataFrame(data1[1:].values/data1[0:-1].values-1))\n",
    "    \n",
    "    result = temp\n",
    "    \n",
    "    '''\n",
    "    Adding code below is to using yesterday X to predict today's y\n",
    "    deleting result = temp above\n",
    "    result = []\n",
    "    _ = temp[0].drop(temp[0].index[-1]) \n",
    "    result.append(_)\n",
    "    _ = temp[1].drop(temp[1].index[-1])\n",
    "    result.append(_)\n",
    "    _ = temp[2].drop(temp[2].index[0])\n",
    "    result.append(_)\n",
    "    _ = temp[3].drop(temp[3].index[0]) \n",
    "    result.append(_)\n",
    "    '''\n",
    "    \n",
    "    # Change the return statement as appropriate\n",
    "    return result\n"
   ]
  },
  {
   "cell_type": "markdown",
   "metadata": {},
   "source": [
    "# <span style=\"color:red\">Transform the raw data, if needed</span>"
   ]
  },
  {
   "cell_type": "markdown",
   "metadata": {},
   "source": [
    "# Plotting transformed data"
   ]
  },
  {
   "cell_type": "code",
   "execution_count": 14,
   "metadata": {},
   "outputs": [],
   "source": [
    "# If needed: turn each of the \"raw\" X_train, X_test, y_train, y_test into a \"transfomred\" versions containing the features needed by the model\n",
    "# - you will need to replace the empty list argumentX_train.head()\n",
    "X_train, X_test, y_train, y_test = prepareData( [ X_train, X_test, y_train, y_test ] )\n"
   ]
  },
  {
   "cell_type": "code",
   "execution_count": 15,
   "metadata": {},
   "outputs": [],
   "source": [
    "train_all = pd.concat([X_train,y_train],axis=1)\n",
    "test_all = pd.concat([X_train,y_train],axis=1)"
   ]
  },
  {
   "cell_type": "markdown",
   "metadata": {},
   "source": [
    "From the below picture of return of ticker and index, we can easily find that the varience of ticker is greater than that of index\n",
    "\n",
    "Also,return, compared to price, is much more stable. In other words, the expectation is constant and variance is not increasing. Return is a better indicator that price"
   ]
  },
  {
   "cell_type": "code",
   "execution_count": 16,
   "metadata": {},
   "outputs": [
    {
     "data": {
      "text/plain": [
       "<matplotlib.legend.Legend at 0x1d5c4509d30>"
      ]
     },
     "execution_count": 16,
     "metadata": {},
     "output_type": "execute_result"
    },
    {
     "data": {
      "text/plain": [
       "<Figure size 432x288 with 0 Axes>"
      ]
     },
     "metadata": {},
     "output_type": "display_data"
    },
    {
     "data": {
      "image/png": "[encoded data removed]",
      "text/plain": [
       "<Figure size 432x288 with 1 Axes>"
      ]
     },
     "metadata": {},
     "output_type": "display_data"
    },
    {
     "data": {
      "text/plain": [
       "<Figure size 432x288 with 0 Axes>"
      ]
     },
     "metadata": {},
     "output_type": "display_data"
    },
    {
     "data": {
      "image/png": "[encoded data removed]",
      "text/plain": [
       "<Figure size 432x288 with 1 Axes>"
      ]
     },
     "metadata": {},
     "output_type": "display_data"
    }
   ],
   "source": [
    "plt.figure()\n",
    "_ = train_all.plot()\n",
    "_.grid()\n",
    "_.legend([\"index\",\"ticker\"])\n",
    "\n",
    "plt.figure()\n",
    "_ = test_all.plot()\n",
    "_.grid()\n",
    "_.legend([\"index\",\"ticker\"])"
   ]
  },
  {
   "cell_type": "markdown",
   "metadata": {},
   "source": [
    "# F. Trainning models and getting result"
   ]
  },
  {
   "cell_type": "markdown",
   "metadata": {},
   "source": [
    "# <span style=\"color:red\">Create function to convert the DataFrames to ndarrays</span>"
   ]
  },
  {
   "cell_type": "code",
   "execution_count": 17,
   "metadata": {},
   "outputs": [],
   "source": [
    "def pd2ndarray( dfList ):\n",
    "    \"\"\"\n",
    "    For each DataFrame in the list dfList, prepare the ndarray needed by the sklearn model\n",
    "    \n",
    "    Parameters\n",
    "    ----------\n",
    "    dfList: List of DataFrames\n",
    "    \n",
    "    Returns\n",
    "    --------\n",
    "    ndList: a list of ndarrays\n",
    "    \"\"\"\n",
    "    \n",
    "    # Create the function body according to the spec\n",
    "    result = []\n",
    "    for i,dataset in enumerate(dfList):\n",
    "        result.append(dataset.values) # transfer DataFrame into ndarray\n",
    "        \n",
    "    # Change the return statement as appropriate\n",
    "    return result\n",
    "   "
   ]
  },
  {
   "cell_type": "code",
   "execution_count": 18,
   "metadata": {},
   "outputs": [],
   "source": [
    "# sklearn takes ndarrays as arguments, not DataFrames; convert your DataFrames to the appropriate ndarray\n",
    "# You will need to replace the empty list argument\n",
    "X_train, X_test, y_train, y_test = pd2ndarray( [X_train, X_test, y_train, y_test] )\n"
   ]
  },
  {
   "cell_type": "markdown",
   "metadata": {},
   "source": [
    "# <span style=\"color:red\">Create function to return the sklearn model you need</span>"
   ]
  },
  {
   "cell_type": "code",
   "execution_count": 19,
   "metadata": {},
   "outputs": [],
   "source": [
    "def createModel():\n",
    "    \"\"\"\n",
    "    Create an sklearn model object\n",
    "    \n",
    "    Parameters\n",
    "    ----------\n",
    "    None\n",
    "    \n",
    "    Returns\n",
    "    -------\n",
    "    model: An sklearn model object,\n",
    "    i.e., responds to model.fit(), model.predict()\n",
    "    \"\"\"\n",
    "    \n",
    "    # Create the function body according to the spec\n",
    "    model = linear_model.LinearRegression()\n",
    "    \n",
    "    # Change the return statement as appropriate\n",
    "    return model"
   ]
  },
  {
   "cell_type": "code",
   "execution_count": 20,
   "metadata": {},
   "outputs": [
    {
     "name": "stdout",
     "output_type": "stream",
     "text": [
      "Coefficients: \n",
      " [0.0005995] [[1.20737853]]\n"
     ]
    }
   ],
   "source": [
    "# Create linear regression object\n",
    "model = createModel()\n",
    "\n",
    "# Train the model using the training sets\n",
    "_ = model.fit(X_train, y_train)\n",
    "\n",
    "# The coefficients\n",
    "print('Coefficients: \\n', model.intercept_, model.coef_)"
   ]
  },
  {
   "cell_type": "markdown",
   "metadata": {},
   "source": [
    "# <span style=\"color:red\">Create function to compute a Root Mean Squared Error</span>"
   ]
  },
  {
   "cell_type": "code",
   "execution_count": 21,
   "metadata": {},
   "outputs": [],
   "source": [
    "def computeRMSE( target, predicted ):\n",
    "    \"\"\"\n",
    "    Compute the Root Mean Squared Error (RMSE)\n",
    "    \n",
    "    Parameters\n",
    "    -----------\n",
    "    target: ndarray of target values\n",
    "    predicted: ndarray of predicted values\n",
    "    \n",
    "    Returns\n",
    "    -------\n",
    "    rmse: a Scalar value containg the RMSE\n",
    "    \"\"\"\n",
    "    \n",
    "    # Create the function body according to the spec\n",
    "    rmse = np.sqrt( mean_squared_error(target,  predicted))\n",
    "        \n",
    "    # Change the return statement as appropriate\n",
    "    return rmse"
   ]
  },
  {
   "cell_type": "markdown",
   "metadata": {},
   "source": [
    "# <span style=\"color:red\">Evaluate in and out of sample Root Mean Squared Error</span>"
   ]
  },
  {
   "cell_type": "code",
   "execution_count": 22,
   "metadata": {},
   "outputs": [],
   "source": [
    "# Predictions:\n",
    "# predict out of sample: You will need to change the None argument\n",
    "y_pred_test = model.predict( X_test )\n",
    "\n",
    "# predict in sample: You will need to change the None argument\n",
    "y_pred_train = model.predict( X_train )"
   ]
  },
  {
   "cell_type": "code",
   "execution_count": 23,
   "metadata": {},
   "outputs": [
    {
     "name": "stdout",
     "output_type": "stream",
     "text": [
      "RMSE (train): 0.016\n",
      "R-squared(train): 0.39\n",
      "RMSE (test): 0.043\n"
     ]
    }
   ],
   "source": [
    "# Compute the in-sample fit\n",
    "# - you will need to replace the None's below with the appropriate argument\n",
    "rmse_insample = computeRMSE( y_train, y_pred_train )\n",
    "print(\"RMSE (train): {r:2.3f}\".format(r=rmse_insample))\n",
    "\n",
    "print(\"R-squared(train): {:.2f}\".format(r2_score(y_train, y_pred_train)) )\n",
    "\n",
    "# Compute the out of sample fit\n",
    "# - you will need to replace the None's below with the appropriate argument\n",
    "rmse_outOfsample = computeRMSE( y_test, y_pred_test)\n",
    "print(\"RMSE (test): {r:2.3f}\".format(r=rmse_outOfsample))\n",
    "\n"
   ]
  },
  {
   "cell_type": "markdown",
   "metadata": {},
   "source": [
    "# <span style=\"color:red\">Please answer the following questions</span>"
   ]
  },
  {
   "cell_type": "markdown",
   "metadata": {},
   "source": [
    "- What are your thoughts/theories on the in sample vs out of sample performance ?\n",
    "- Repeat the experiment using ticker FB (Facebook) rather than ticker BA (Boeing)\n",
    "    - What are your thoughts of in sample vs out of sample performance, especially compared to BA\n",
    "        - Maybe our predictor (SPX Index return) was *not* a great predictor for FB\n",
    "        - any thoughts for a better one ?\n",
    "            - run the experiment using another predictor; there are more timeseries in the same directory\n"
   ]
  },
  {
   "cell_type": "markdown",
   "metadata": {},
   "source": [
    "Before using today's X to predict today's y, I used yesterday's X to predict today's y. \n",
    "And the prediction runs badly. R-squared is pretty small and almost zero, indicating that index return of yesterday cannot be a predictor to stock return. They are not linearly correlated.\n",
    "\n",
    "\n",
    "\n",
    "After that, I study the relation bewteen today's X and todya's y and get the RMSE metrics below for `BA` and `FB`\n",
    "\n",
    "BA:\n",
    "\n",
    "RMSE (train): 0.014\n",
    "\n",
    "R-squared(train): 0.49\n",
    "\n",
    "RMSE (test): 0.011\n",
    "\n",
    "FB:\n",
    "\n",
    "RMSE (train): 0.016\n",
    "\n",
    "R-squared(train): 0.39\n",
    "\n",
    "RMSE (test): 0.043\n",
    "\n",
    "\n",
    "For both BA and FB, the regressions are running not very well, but we still can see some correlation bewteen returns of index and ticker\n",
    "\n",
    "For `in sample vs out of sample performance`, FB might have some overfitting problem since in sample RMSE is much better that out of sample RMSE"
   ]
  },
  {
   "cell_type": "markdown",
   "metadata": {},
   "source": [
    "Now, we change the predictor from `SPY` to `QQQ`. Comparing R-squared of `QQQ` and `SPY` ,we can find that `QQQ` is better predictor for FB but not for BA\n",
    "\n",
    "BA:\n",
    "\n",
    "RMSE (train): 0.016\n",
    "\n",
    "R-squared(train): 0.38\n",
    "\n",
    "RMSE (test): 0.012\n",
    "\n",
    "FB:\n",
    "\n",
    "RMSE (train): 0.015\n",
    "\n",
    "R-squared(train): 0.47\n",
    "\n",
    "RMSE (test): 0.039"
   ]
  },
  {
   "cell_type": "markdown",
   "metadata": {},
   "source": [
    "To improve the performance, I think more predictors should be put into model. Apparaently, the return of a stock cannot just depend on the return of index. And it might be also depend on the other stocks in the same industry. Even, it might depends on its onw performance before."
   ]
  },
  {
   "cell_type": "markdown",
   "metadata": {},
   "source": [
    "# <span style=\"color:red\">Extra credit</span>"
   ]
  },
  {
   "cell_type": "markdown",
   "metadata": {},
   "source": [
    "- Assume our test set remains unchanged\n",
    "    - Does changing the date range of our training data affect the Performance metric (test RMSE)\n",
    "        - holding constant the last date of the training data\n",
    "        - plot the Performance metric versus the number of days of training data\n",
    "        \n",
    "- What are some of the challenges of timeseries data ?\n",
    "    - The Performance metric is an average that doesn't take an time-varying pattern of error into account\n",
    "        - show a scatter plot of error versus distance from date of last training point\n",
    "            - any pattern ? Theories ?\n",
    "    - We split train/test so that each has a continous date range\n",
    "        - we didn't use the standard sklearn `sklearn.model_selection.train_test_split`, which shuffles data\n",
    "            - what are the consideratons of shuffling data when we are dealing with timeseries ?"
   ]
  }
 ],
 "metadata": {
  "kernelspec": {
   "display_name": "Python 3",
   "language": "python",
   "name": "python3"
  },
  "language_info": {
   "codemirror_mode": {
    "name": "ipython",
    "version": 3
   },
   "file_extension": ".py",
   "mimetype": "text/x-python",
   "name": "python",
   "nbconvert_exporter": "python",
   "pygments_lexer": "ipython3",
   "version": "3.6.5"
  },
  "toc": {
   "base_numbering": 1,
   "nav_menu": {},
   "number_sections": true,
   "sideBar": true,
   "skip_h1_title": false,
   "title_cell": "Table of Contents",
   "title_sidebar": "Contents",
   "toc_cell": false,
   "toc_position": {},
   "toc_section_display": true,
   "toc_window_display": true
  }
 },
 "nbformat": 4,
 "nbformat_minor": 2
}
